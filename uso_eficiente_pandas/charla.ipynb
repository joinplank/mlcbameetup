{
 "cells": [
  {
   "attachments": {},
   "cell_type": "markdown",
   "metadata": {},
   "source": [
    "# PANDAS: Uso eficiente de Pandas"
   ]
  },
  {
   "attachments": {},
   "cell_type": "markdown",
   "metadata": {},
   "source": [
    "## Intro"
   ]
  },
  {
   "attachments": {},
   "cell_type": "markdown",
   "metadata": {},
   "source": [
    "### Dataset\n",
    "\n",
    "[Link al dataset](https://www.kaggle.com/datasets/rajugc/imdb-top-250-movies-dataset)"
   ]
  },
  {
   "cell_type": "code",
   "execution_count": null,
   "metadata": {},
   "outputs": [],
   "source": [
    "import pandas as pd\n",
    "import numpy as np\n",
    "import matplotlib.pyplot as plt"
   ]
  },
  {
   "cell_type": "code",
   "execution_count": null,
   "metadata": {},
   "outputs": [],
   "source": [
    "top_250_movies = pd.read_csv('data/top_250_movies.csv', index_col='rank')"
   ]
  },
  {
   "cell_type": "code",
   "execution_count": null,
   "metadata": {},
   "outputs": [],
   "source": [
    "top_250_movies.head(3)"
   ]
  },
  {
   "attachments": {},
   "cell_type": "markdown",
   "metadata": {},
   "source": [
    "### Querying "
   ]
  },
  {
   "cell_type": "code",
   "execution_count": null,
   "metadata": {},
   "outputs": [],
   "source": [
    "top_250_movies.certificate.value_counts()"
   ]
  },
  {
   "cell_type": "code",
   "execution_count": null,
   "metadata": {},
   "outputs": [],
   "source": [
    "top_250_movies.loc[top_250_movies.year.eq(1995)].sort_values(by='rating', ascending=False)"
   ]
  },
  {
   "cell_type": "markdown",
   "metadata": {},
   "source": [
    "### Gráficos"
   ]
  },
  {
   "cell_type": "code",
   "execution_count": null,
   "metadata": {},
   "outputs": [],
   "source": [
    "top_250_movies.certificate.value_counts().plot(kind='bar', rot=45)\n",
    "None"
   ]
  },
  {
   "cell_type": "code",
   "execution_count": null,
   "metadata": {},
   "outputs": [],
   "source": [
    "import seaborn as sns\n",
    "\n",
    "sns.histplot(data=top_250_movies, x='year', bins=np.arange(1920, 2025, 5))"
   ]
  },
  {
   "attachments": {},
   "cell_type": "markdown",
   "metadata": {},
   "source": [
    "## Pandas y Numpy"
   ]
  },
  {
   "cell_type": "code",
   "execution_count": null,
   "metadata": {},
   "outputs": [],
   "source": [
    "top_250_movies.year"
   ]
  },
  {
   "cell_type": "code",
   "execution_count": null,
   "metadata": {},
   "outputs": [],
   "source": [
    "top_250_movies.dtypes"
   ]
  },
  {
   "attachments": {},
   "cell_type": "markdown",
   "metadata": {},
   "source": [
    "## Optimización de datos"
   ]
  },
  {
   "cell_type": "code",
   "execution_count": null,
   "metadata": {},
   "outputs": [],
   "source": [
    "top_250_movies.head(1)"
   ]
  },
  {
   "attachments": {},
   "cell_type": "markdown",
   "metadata": {},
   "source": [
    "### Chaining vs ="
   ]
  },
  {
   "cell_type": "code",
   "execution_count": null,
   "metadata": {},
   "outputs": [],
   "source": [
    "top_250_movies = top_250_movies.drop(columns=['tagline', 'casts', 'directors', 'writers'])\n",
    "\n",
    "top_250_movies.loc[:, 'year'] = top_250_movies.year * 2\n",
    "\n",
    "top_250_movies.loc[:, 'first_letter'] = top_250_movies.name.str[0]"
   ]
  },
  {
   "cell_type": "code",
   "execution_count": null,
   "metadata": {},
   "outputs": [],
   "source": [
    "top_250_movies"
   ]
  },
  {
   "cell_type": "code",
   "execution_count": null,
   "metadata": {},
   "outputs": [],
   "source": [
    "top_250_movies = pd.read_csv('data/top_250_movies.csv', index_col='rank')"
   ]
  },
  {
   "cell_type": "code",
   "execution_count": null,
   "metadata": {},
   "outputs": [],
   "source": [
    "(\n",
    "top_250_movies\n",
    ".drop(columns=['tagline', 'casts', 'directors', 'writers'])\n",
    ".assign(\n",
    "    year=top_250_movies.year * 2,\n",
    "    first_letter=top_250_movies.name.str[0],\n",
    ")\n",
    ")"
   ]
  },
  {
   "attachments": {},
   "cell_type": "markdown",
   "metadata": {},
   "source": [
    "### Memory usage"
   ]
  },
  {
   "cell_type": "code",
   "execution_count": null,
   "metadata": {},
   "outputs": [],
   "source": [
    "(\n",
    "top_250_movies\n",
    ".drop(columns=['tagline', 'casts', 'directors', 'writers'])\n",
    ".memory_usage(deep=True)\n",
    ")"
   ]
  },
  {
   "cell_type": "code",
   "execution_count": null,
   "metadata": {},
   "outputs": [],
   "source": [
    "(\n",
    "top_250_movies\n",
    ".drop(columns=['tagline', 'casts', 'directors', 'writers'])\n",
    ".memory_usage(deep=True)\n",
    ".sum()\n",
    ")"
   ]
  },
  {
   "cell_type": "code",
   "execution_count": null,
   "metadata": {},
   "outputs": [],
   "source": [
    "def mem_usage(df):\n",
    "    if type(df) == pd.core.series.Series:\n",
    "        kb = df.memory_usage(deep=True) / (2**10)\n",
    "    else:\n",
    "        kb = df.memory_usage(deep=True).sum() / (2**10)\n",
    "\n",
    "    return round(kb)"
   ]
  },
  {
   "cell_type": "code",
   "execution_count": null,
   "metadata": {},
   "outputs": [],
   "source": [
    "mem_usage(\n",
    "top_250_movies\n",
    ".drop(columns=['tagline', 'casts', 'directors', 'writers'])\n",
    ")"
   ]
  },
  {
   "cell_type": "code",
   "execution_count": null,
   "metadata": {},
   "outputs": [],
   "source": [
    "top_250_movies.drop(\n",
    "    columns=['tagline', 'casts', 'directors', 'writers']\n",
    ").dtypes\n"
   ]
  },
  {
   "cell_type": "code",
   "execution_count": 12,
   "metadata": {},
   "outputs": [
    {
     "data": {
      "text/plain": [
       "iinfo(min=-9223372036854775808, max=9223372036854775807, dtype=int64)"
      ]
     },
     "execution_count": 12,
     "metadata": {},
     "output_type": "execute_result"
    }
   ],
   "source": [
    "np.iinfo(np.int64)"
   ]
  },
  {
   "cell_type": "code",
   "execution_count": 13,
   "metadata": {},
   "outputs": [
    {
     "data": {
      "text/plain": [
       "iinfo(min=-32768, max=32767, dtype=int16)"
      ]
     },
     "execution_count": 13,
     "metadata": {},
     "output_type": "execute_result"
    }
   ],
   "source": [
    "np.iinfo(np.int16)"
   ]
  },
  {
   "cell_type": "code",
   "execution_count": null,
   "metadata": {},
   "outputs": [],
   "source": [
    "(\n",
    "top_250_movies\n",
    ".drop(columns=['tagline', 'casts', 'directors', 'writers'])\n",
    ".astype({\n",
    "    'year': 'int16'\n",
    "})\n",
    ".dtypes\n",
    ")"
   ]
  },
  {
   "cell_type": "code",
   "execution_count": null,
   "metadata": {},
   "outputs": [],
   "source": [
    "top_250_movies.rating"
   ]
  },
  {
   "cell_type": "code",
   "execution_count": null,
   "metadata": {},
   "outputs": [],
   "source": [
    "np.iinfo(np.uint8)"
   ]
  },
  {
   "cell_type": "code",
   "execution_count": null,
   "metadata": {},
   "outputs": [],
   "source": [
    "(\n",
    "top_250_movies\n",
    ".drop(columns=['tagline', 'casts', 'directors', 'writers'])\n",
    ".assign(\n",
    "    rating=top_250_movies.rating * 10\n",
    ")\n",
    ".astype({\n",
    "    'year': np.int16,\n",
    "    'rating': np.uint8\n",
    "})\n",
    ".dtypes\n",
    ")"
   ]
  },
  {
   "cell_type": "code",
   "execution_count": null,
   "metadata": {},
   "outputs": [],
   "source": [
    "top_250_movies.certificate.head()"
   ]
  },
  {
   "cell_type": "code",
   "execution_count": 14,
   "metadata": {},
   "outputs": [
    {
     "data": {
      "text/plain": [
       "array(['R', 'PG-13', 'Approved', 'PG', '18+', 'Not Rated', 'G', 'Passed',\n",
       "       'Not Available', 'TV-PG', 'Unrated', 'X', '13+', 'TV-MA', 'GP'],\n",
       "      dtype=object)"
      ]
     },
     "execution_count": 14,
     "metadata": {},
     "output_type": "execute_result"
    }
   ],
   "source": [
    "top_250_movies.certificate.unique()"
   ]
  },
  {
   "cell_type": "code",
   "execution_count": null,
   "metadata": {},
   "outputs": [],
   "source": [
    "mem_usage(top_250_movies.certificate)"
   ]
  },
  {
   "cell_type": "code",
   "execution_count": null,
   "metadata": {},
   "outputs": [],
   "source": [
    "mem_usage(top_250_movies.certificate.astype('category'))"
   ]
  },
  {
   "cell_type": "code",
   "execution_count": null,
   "metadata": {},
   "outputs": [],
   "source": [
    "(\n",
    "top_250_movies\n",
    ".drop(columns=['tagline', 'casts', 'directors', 'writers'])\n",
    ".assign(\n",
    "    rating=top_250_movies.rating * 10,\n",
    ")\n",
    ".astype({\n",
    "    'year': np.int16,\n",
    "    'rating': np.uint8,\n",
    "    'certificate': 'category',\n",
    "})\n",
    ")"
   ]
  },
  {
   "cell_type": "code",
   "execution_count": null,
   "metadata": {},
   "outputs": [],
   "source": [
    "(\n",
    "top_250_movies\n",
    ".drop(columns=['tagline', 'casts', 'directors', 'writers'])\n",
    ".assign(\n",
    "    rating=top_250_movies.rating * 10,\n",
    ")\n",
    ".astype({\n",
    "    'year': np.int16,\n",
    "    'rating': np.uint8,\n",
    "    'certificate': 'category',\n",
    "})\n",
    ".dtypes\n",
    ")"
   ]
  },
  {
   "cell_type": "code",
   "execution_count": null,
   "metadata": {},
   "outputs": [],
   "source": [
    "top_250_movies.loc[:10, ['budget', 'box_office']]"
   ]
  },
  {
   "cell_type": "code",
   "execution_count": null,
   "metadata": {},
   "outputs": [],
   "source": [
    "top_250_movies.budget.astype(np.int64)"
   ]
  },
  {
   "cell_type": "code",
   "execution_count": null,
   "metadata": {},
   "outputs": [],
   "source": [
    "top_250_movies.budget.str.extract('(\\d+)')"
   ]
  },
  {
   "cell_type": "code",
   "execution_count": null,
   "metadata": {},
   "outputs": [],
   "source": [
    "top_250_movies.budget.str.extract('(\\d+)').fillna(0)[0]"
   ]
  },
  {
   "cell_type": "code",
   "execution_count": null,
   "metadata": {},
   "outputs": [],
   "source": [
    "def amount_to_millions(df, column):\n",
    "    return (\n",
    "        df\n",
    "        [column]\n",
    "        .str.extract('(\\d+)')\n",
    "        .fillna(0)\n",
    "        .astype(float)\n",
    "        / 1_000_000\n",
    "    )[0]"
   ]
  },
  {
   "cell_type": "code",
   "execution_count": null,
   "metadata": {},
   "outputs": [],
   "source": [
    "(\n",
    "top_250_movies\n",
    ".drop(columns=['tagline', 'casts', 'directors', 'writers'])\n",
    ".assign(\n",
    "    rating=top_250_movies.rating * 10,\n",
    "    budget=amount_to_millions(top_250_movies, 'budget'),\n",
    "    box_office=amount_to_millions(top_250_movies, 'box_office'),\n",
    ")\n",
    ".astype({\n",
    "    'year': np.int16,\n",
    "    'rating': np.uint8,\n",
    "    'certificate': 'category',\n",
    "    'budget': np.float32,\n",
    "    'box_office': np.float32,\n",
    "})\n",
    ")"
   ]
  },
  {
   "cell_type": "code",
   "execution_count": null,
   "metadata": {},
   "outputs": [],
   "source": [
    "top_250_movies.genre"
   ]
  },
  {
   "cell_type": "code",
   "execution_count": null,
   "metadata": {},
   "outputs": [],
   "source": [
    "top_250_movies.genre.value_counts()"
   ]
  },
  {
   "cell_type": "code",
   "execution_count": null,
   "metadata": {},
   "outputs": [],
   "source": [
    "top_250_movies.genre[3]"
   ]
  },
  {
   "cell_type": "code",
   "execution_count": null,
   "metadata": {},
   "outputs": [],
   "source": [
    "movie_genres = top_250_movies.genre.str.split(',')\n",
    "genres = (set([genre for genre_list in movie_genres for genre in genre_list]))"
   ]
  },
  {
   "cell_type": "code",
   "execution_count": null,
   "metadata": {},
   "outputs": [],
   "source": [
    "genres"
   ]
  },
  {
   "cell_type": "code",
   "execution_count": null,
   "metadata": {},
   "outputs": [],
   "source": [
    "len(genres)"
   ]
  },
  {
   "cell_type": "code",
   "execution_count": null,
   "metadata": {},
   "outputs": [],
   "source": [
    "top_250_movies.genre.memory_usage(deep=True)"
   ]
  },
  {
   "cell_type": "code",
   "execution_count": null,
   "metadata": {},
   "outputs": [],
   "source": [
    "pd.Series(top_250_movies.index > 0).memory_usage(deep=True) * len(genres)"
   ]
  },
  {
   "cell_type": "code",
   "execution_count": null,
   "metadata": {},
   "outputs": [],
   "source": [
    "top_250_movies.genre.str.contains('Action')"
   ]
  },
  {
   "cell_type": "code",
   "execution_count": null,
   "metadata": {},
   "outputs": [],
   "source": [
    "#NO\n",
    "(\n",
    "top_250_movies\n",
    ".drop(columns=['tagline', 'casts', 'directors', 'writers'])\n",
    ".assign(\n",
    "    rating=top_250_movies.rating * 10,\n",
    "    budget=amount_to_millions(top_250_movies, 'budget'),\n",
    "    box_office=amount_to_millions(top_250_movies, 'box_office'),\n",
    "    Action=top_250_movies.genre.str.contains('Action'),\n",
    "    Drama=top_250_movies.genre.str.contains('Drama'),\n",
    "    .\n",
    "    .\n",
    "    .\n",
    ")\n",
    ".astype({\n",
    "    'year': np.int16,\n",
    "    'rating': np.uint8,\n",
    "    'certificate': 'category',\n",
    "    'budget': np.float32,\n",
    "    'box_office': np.float32,\n",
    "})\n",
    ".dtypes\n",
    ")"
   ]
  },
  {
   "cell_type": "code",
   "execution_count": null,
   "metadata": {},
   "outputs": [],
   "source": [
    "def has_genre(df, genre):\n",
    "    return df.genre.str.contains(genre)\n",
    "\n",
    "(\n",
    "top_250_movies\n",
    ".drop(columns=['tagline', 'casts', 'directors', 'writers'])\n",
    ".assign(\n",
    "    rating=top_250_movies.rating * 10,\n",
    "    budget=amount_to_millions(top_250_movies, 'budget'),\n",
    "    box_office=amount_to_millions(top_250_movies, 'box_office'),\n",
    "    **{genre:has_genre(top_250_movies, genre) for genre in genres},\n",
    ")\n",
    ".drop(columns='genre')\n",
    ".astype({\n",
    "    'year': np.int16,\n",
    "    'rating': np.uint8,\n",
    "    'certificate': 'category',\n",
    "    'budget': np.float32,\n",
    "    'box_office': np.float32,\n",
    "})\n",
    ")"
   ]
  },
  {
   "cell_type": "code",
   "execution_count": null,
   "metadata": {},
   "outputs": [],
   "source": [
    "(\n",
    "top_250_movies\n",
    ".drop(columns=['tagline', 'casts', 'directors', 'writers'])\n",
    ".assign(\n",
    "    rating=top_250_movies.rating * 10,\n",
    "    budget=amount_to_millions(top_250_movies, 'budget'),\n",
    "    box_office=amount_to_millions(top_250_movies, 'box_office'),\n",
    "    **{genre:has_genre(top_250_movies, genre) for genre in genres},\n",
    ")\n",
    ".drop(columns='genre')\n",
    ".astype({\n",
    "    'year': np.int16,\n",
    "    'rating': np.uint8,\n",
    "    'certificate': 'category',\n",
    "    'budget': np.float32,\n",
    "    'box_office': np.float32,\n",
    "})\n",
    ").loc[:, list(genres)].sum()"
   ]
  },
  {
   "cell_type": "code",
   "execution_count": null,
   "metadata": {},
   "outputs": [],
   "source": [
    "top_250_movies.run_time"
   ]
  },
  {
   "cell_type": "code",
   "execution_count": null,
   "metadata": {},
   "outputs": [],
   "source": [
    "def run_time_to_minutes(df):\n",
    "    return (\n",
    "        df.run_time\n",
    "        .str.findall('[0-9]+')\n",
    "        .apply(pd.Series, dtype='object')\n",
    "        .fillna(0)\n",
    "        .astype('int16')\n",
    "        .assign(run_time=lambda df: (df[0] * 60) + df[1])\n",
    "    ).run_time"
   ]
  },
  {
   "cell_type": "code",
   "execution_count": null,
   "metadata": {},
   "outputs": [],
   "source": [
    "(\n",
    "top_250_movies\n",
    ".drop(columns=['tagline', 'casts', 'directors', 'writers'])\n",
    ".assign(\n",
    "    rating=top_250_movies.rating * 10,\n",
    "    budget=amount_to_millions(top_250_movies, 'budget'),\n",
    "    box_office=amount_to_millions(top_250_movies, 'box_office'),\n",
    "    run_time=run_time_to_minutes(top_250_movies),\n",
    "    **{genre:has_genre(top_250_movies, genre) for genre in genres},\n",
    ")\n",
    ".drop(columns='genre')\n",
    ".astype({\n",
    "    'year': np.int16,\n",
    "    'rating': np.uint8,\n",
    "    'certificate': 'category',\n",
    "    'budget': np.float32,\n",
    "    'box_office': np.float32,\n",
    "    'run_time': np.int16\n",
    "})\n",
    ")"
   ]
  },
  {
   "cell_type": "code",
   "execution_count": null,
   "metadata": {},
   "outputs": [],
   "source": [
    "def clean_data(input_df):\n",
    "    def run_time_to_minutes(df):\n",
    "        return (\n",
    "            df.run_time\n",
    "            .str.findall('[0-9]+')\n",
    "            .apply(pd.Series, dtype='object')\n",
    "            .fillna(0)\n",
    "            .astype('int16')\n",
    "            .assign(run_time=lambda df: (df[0] * 60) + df[1])\n",
    "        ).run_time\n",
    "    \n",
    "    def has_genre(df, genre):\n",
    "        return df.genre.str.contains(genre)\n",
    "    \n",
    "    def amount_to_millions(df, column):\n",
    "        return (\n",
    "            df\n",
    "            [column]\n",
    "            .str.extract('(\\d+)')\n",
    "            .fillna(0)\n",
    "            .astype(float)\n",
    "            / 1_000_000\n",
    "        )[0]\n",
    "    \n",
    "    movie_genres = input_df.genre.str.split(',')\n",
    "    genres = (set([genre for genre_list in movie_genres for genre in genre_list]))\n",
    "\n",
    "    return (\n",
    "        input_df\n",
    "        .drop(columns=['tagline', 'casts', 'directors', 'writers'])\n",
    "        .assign(\n",
    "            rating=input_df.rating * 10,\n",
    "            budget=amount_to_millions(input_df, 'budget'),\n",
    "            box_office=amount_to_millions(input_df, 'box_office'),\n",
    "            run_time=run_time_to_minutes(input_df),\n",
    "            **{genre:has_genre(input_df, genre) for genre in genres},\n",
    "        )\n",
    "        .drop(columns='genre')\n",
    "        .astype({\n",
    "            'year': np.int16,\n",
    "            'rating': np.uint8,\n",
    "            'certificate': 'category',\n",
    "            'budget': np.float32,\n",
    "            'box_office': np.float32,\n",
    "            'run_time': np.int16\n",
    "        })\n",
    "    )"
   ]
  },
  {
   "cell_type": "code",
   "execution_count": null,
   "metadata": {},
   "outputs": [],
   "source": [
    "movies_refined = clean_data(top_250_movies)"
   ]
  },
  {
   "cell_type": "code",
   "execution_count": null,
   "metadata": {},
   "outputs": [],
   "source": [
    "movies_refined"
   ]
  },
  {
   "cell_type": "code",
   "execution_count": null,
   "metadata": {},
   "outputs": [],
   "source": [
    "mem_usage(movies_refined)"
   ]
  },
  {
   "attachments": {},
   "cell_type": "markdown",
   "metadata": {},
   "source": [
    "### Key Takeaways\n",
    "\n",
    "- Vale la pena invertir un poco de tiempo en optimizar los tipos de nuestros dataframes\n",
    "\n",
    "- Ojo con re-asignar nuestros dataframes, el chaining esta OP\n",
    "\n",
    "- Los datasets crudos suelen ser feos"
   ]
  }
 ],
 "metadata": {
  "kernelspec": {
   "display_name": "charla_pandas",
   "language": "python",
   "name": "python3"
  },
  "language_info": {
   "codemirror_mode": {
    "name": "ipython",
    "version": 3
   },
   "file_extension": ".py",
   "mimetype": "text/x-python",
   "name": "python",
   "nbconvert_exporter": "python",
   "pygments_lexer": "ipython3",
   "version": "3.10.9"
  },
  "orig_nbformat": 4,
  "vscode": {
   "interpreter": {
    "hash": "63eb337d8a78c05f1e79949281712673e9b247adb8115716e959cbd745f0138d"
   }
  }
 },
 "nbformat": 4,
 "nbformat_minor": 2
}
